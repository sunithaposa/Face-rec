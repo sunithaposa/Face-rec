{
 "cells": [
  {
   "cell_type": "markdown",
   "metadata": {
    "colab_type": "text",
    "id": "vTKpNmoM6x-C"
   },
   "source": [
    "Download Data"
   ]
  },
  {
   "cell_type": "code",
   "execution_count": 1,
   "metadata": {
    "colab": {},
    "colab_type": "code",
    "id": "TZW55ko46x-S"
   },
   "outputs": [],
   "source": [
    "import requests\n",
    "\n",
    "def download_file_from_google_drive(id, destination):\n",
    "    URL = \"https://docs.google.com/uc?export=download\"\n",
    "\n",
    "    session = requests.Session()\n",
    "\n",
    "    response = session.get(URL, params = { 'id' : id }, stream = True)\n",
    "    token = get_confirm_token(response)\n",
    "\n",
    "    if token:\n",
    "        params = { 'id' : id, 'confirm' : token }\n",
    "        response = session.get(URL, params = params, stream = True)\n",
    "\n",
    "    save_response_content(response, destination)    \n",
    "\n",
    "def get_confirm_token(response):\n",
    "    for key, value in response.cookies.items():\n",
    "        if key.startswith('download_warning'):\n",
    "            return value\n",
    "\n",
    "    return None\n",
    "\n",
    "def save_response_content(response, destination):\n",
    "    CHUNK_SIZE = 32768\n",
    "\n",
    "    with open(destination, \"wb\") as f:\n",
    "        for chunk in response.iter_content(CHUNK_SIZE):\n",
    "            if chunk: # filter out keep-alive new chunks\n",
    "                f.write(chunk)\n",
    "\n",
    "if __name__ == \"__main__\":\n",
    "    file_id = 'TAKE ID FROM SHAREABLE LINK'\n",
    "    destination = 'DESTINATION FILE ON YOUR DISK'\n",
    "    download_file_from_google_drive(\"0BxYys69jI14kYVM3aVhKS1VhRUk\", \"UTKFace.tar.gz\")"
   ]
  },
  {
   "cell_type": "markdown",
   "metadata": {
    "colab_type": "text",
    "id": "ugSwgj_96x-h"
   },
   "source": [
    "Install dependancies"
   ]
  },
  {
   "cell_type": "code",
   "execution_count": 2,
   "metadata": {
    "colab": {},
    "colab_type": "code",
    "id": "ptgpJNpp6x-l",
    "outputId": "e9ca6cc9-eb76-455b-f43b-4403d5a4180e"
   },
   "outputs": [
    {
     "name": "stdout",
     "output_type": "stream",
     "text": [
      "Requirement already satisfied: opencv-python in d:\\programdata\\anaconda3\\envs\\fcm\\lib\\site-packages (4.1.2.30)\n",
      "Requirement already satisfied: numpy>=1.11.3 in d:\\programdata\\anaconda3\\envs\\fcm\\lib\\site-packages (from opencv-python) (1.17.4)\n"
     ]
    },
    {
     "name": "stderr",
     "output_type": "stream",
     "text": [
      "'apt' is not recognized as an internal or external command,\n",
      "operable program or batch file.\n"
     ]
    }
   ],
   "source": [
    "!pip install opencv-python\n",
    "!apt update && apt install -y libsm6 libxext6 libxrender-dev"
   ]
  },
  {
   "cell_type": "code",
   "execution_count": 3,
   "metadata": {
    "colab": {},
    "colab_type": "code",
    "id": "6NbCULwU6x-5",
    "outputId": "9ec54204-60bf-4f97-9924-a3898aba67c2"
   },
   "outputs": [
    {
     "name": "stdout",
     "output_type": "stream",
     "text": [
      "Requirement already satisfied: requests in d:\\programdata\\anaconda3\\envs\\fcm\\lib\\site-packages (2.22.0)\n",
      "Requirement already satisfied: idna<2.9,>=2.5 in d:\\programdata\\anaconda3\\envs\\fcm\\lib\\site-packages (from requests) (2.8)\n",
      "Requirement already satisfied: certifi>=2017.4.17 in d:\\programdata\\anaconda3\\envs\\fcm\\lib\\site-packages (from requests) (2019.11.28)\n",
      "Requirement already satisfied: chardet<3.1.0,>=3.0.2 in d:\\programdata\\anaconda3\\envs\\fcm\\lib\\site-packages (from requests) (3.0.4)\n",
      "Requirement already satisfied: urllib3!=1.25.0,!=1.25.1,<1.26,>=1.21.1 in d:\\programdata\\anaconda3\\envs\\fcm\\lib\\site-packages (from requests) (1.25.7)\n"
     ]
    }
   ],
   "source": [
    "!pip install requests"
   ]
  },
  {
   "cell_type": "code",
   "execution_count": 4,
   "metadata": {
    "colab": {},
    "colab_type": "code",
    "id": "blO_1WP76x_G",
    "outputId": "bc519947-392f-4eec-8678-7ac102e11d86"
   },
   "outputs": [
    {
     "name": "stdout",
     "output_type": "stream",
     "text": [
      "Requirement already satisfied: keras in d:\\programdata\\anaconda3\\envs\\fcm\\lib\\site-packages (2.3.0)\n",
      "Requirement already satisfied: pyyaml in d:\\programdata\\anaconda3\\envs\\fcm\\lib\\site-packages (from keras) (5.2)\n",
      "Requirement already satisfied: keras-applications>=1.0.6 in d:\\programdata\\anaconda3\\envs\\fcm\\lib\\site-packages (from keras) (1.0.8)\n",
      "Requirement already satisfied: keras-preprocessing>=1.0.5 in d:\\programdata\\anaconda3\\envs\\fcm\\lib\\site-packages (from keras) (1.1.0)\n",
      "Requirement already satisfied: numpy>=1.9.1 in d:\\programdata\\anaconda3\\envs\\fcm\\lib\\site-packages (from keras) (1.17.4)\n",
      "Requirement already satisfied: scipy>=0.14 in d:\\programdata\\anaconda3\\envs\\fcm\\lib\\site-packages (from keras) (1.0.0)\n",
      "Requirement already satisfied: h5py in d:\\programdata\\anaconda3\\envs\\fcm\\lib\\site-packages (from keras) (2.10.0)\n",
      "Requirement already satisfied: six>=1.9.0 in d:\\programdata\\anaconda3\\envs\\fcm\\lib\\site-packages (from keras) (1.13.0)\n"
     ]
    }
   ],
   "source": [
    "!pip install keras"
   ]
  },
  {
   "cell_type": "code",
   "execution_count": 5,
   "metadata": {
    "colab": {},
    "colab_type": "code",
    "id": "beu_x-Fs6x_T",
    "outputId": "764c5be4-8794-46e5-8387-68efa86a363b"
   },
   "outputs": [
    {
     "name": "stdout",
     "output_type": "stream",
     "text": [
      "Requirement already satisfied: imageio in d:\\programdata\\anaconda3\\envs\\fcm\\lib\\site-packages (2.6.1)\n",
      "Requirement already satisfied: pillow in d:\\programdata\\anaconda3\\envs\\fcm\\lib\\site-packages (from imageio) (2.6.0)\n",
      "Requirement already satisfied: numpy in d:\\programdata\\anaconda3\\envs\\fcm\\lib\\site-packages (from imageio) (1.17.4)\n"
     ]
    }
   ],
   "source": [
    "!pip install imageio"
   ]
  },
  {
   "cell_type": "code",
   "execution_count": 6,
   "metadata": {
    "colab": {},
    "colab_type": "code",
    "id": "JyBxrVVk6x_i",
    "outputId": "d870d9e5-f5fd-4772-d040-4e34d26a6271"
   },
   "outputs": [
    {
     "name": "stdout",
     "output_type": "stream",
     "text": [
      "Requirement already satisfied: imageio in d:\\programdata\\anaconda3\\envs\\fcm\\lib\\site-packages (2.6.1)\n",
      "Requirement already satisfied: pillow in d:\\programdata\\anaconda3\\envs\\fcm\\lib\\site-packages (from imageio) (2.6.0)\n",
      "Requirement already satisfied: numpy in d:\\programdata\\anaconda3\\envs\\fcm\\lib\\site-packages (from imageio) (1.17.4)\n"
     ]
    }
   ],
   "source": [
    "!pip install imageio"
   ]
  },
  {
   "cell_type": "code",
   "execution_count": 7,
   "metadata": {
    "colab": {},
    "colab_type": "code",
    "id": "DD-jawqe6x_v",
    "outputId": "c9093b45-9612-4b55-91f7-ab80ca6bc2ef"
   },
   "outputs": [
    {
     "name": "stdout",
     "output_type": "stream",
     "text": [
      "Collecting git+https://www.github.com/keras-team/keras-contrib.git\n",
      "  Cloning https://www.github.com/keras-team/keras-contrib.git to c:\\users\\sunitha\\appdata\\local\\temp\\pip-req-build-u7_592qb\n",
      "Requirement already satisfied (use --upgrade to upgrade): keras-contrib==2.0.8 from git+https://www.github.com/keras-team/keras-contrib.git in d:\\programdata\\anaconda3\\lib\\site-packages\n",
      "Requirement already satisfied: keras in d:\\programdata\\anaconda3\\lib\\site-packages (from keras-contrib==2.0.8) (2.2.4)\n",
      "Requirement already satisfied: keras-preprocessing>=1.0.5 in d:\\programdata\\anaconda3\\lib\\site-packages (from keras->keras-contrib==2.0.8) (1.1.0)\n",
      "Requirement already satisfied: h5py in d:\\programdata\\anaconda3\\lib\\site-packages (from keras->keras-contrib==2.0.8) (2.9.0)\n",
      "Requirement already satisfied: keras-applications>=1.0.6 in d:\\programdata\\anaconda3\\lib\\site-packages (from keras->keras-contrib==2.0.8) (1.0.8)\n",
      "Requirement already satisfied: six>=1.9.0 in d:\\programdata\\anaconda3\\lib\\site-packages (from keras->keras-contrib==2.0.8) (1.12.0)\n",
      "Requirement already satisfied: pyyaml in d:\\programdata\\anaconda3\\lib\\site-packages (from keras->keras-contrib==2.0.8) (5.1.1)\n",
      "Requirement already satisfied: numpy>=1.9.1 in d:\\programdata\\anaconda3\\lib\\site-packages (from keras->keras-contrib==2.0.8) (1.16.4)\n",
      "Requirement already satisfied: scipy>=0.14 in d:\\programdata\\anaconda3\\lib\\site-packages (from keras->keras-contrib==2.0.8) (1.2.1)\n",
      "Building wheels for collected packages: keras-contrib\n",
      "  Building wheel for keras-contrib (setup.py): started\n",
      "  Building wheel for keras-contrib (setup.py): finished with status 'done'\n",
      "  Stored in directory: C:\\Users\\Sunitha\\AppData\\Local\\Temp\\pip-ephem-wheel-cache-t5j80cn5\\wheels\\11\\27\\c8\\4ed56de7b55f4f61244e2dc6ef3cdbaff2692527a2ce6502ba\n",
      "Successfully built keras-contrib\n",
      "Note: you may need to restart the kernel to use updated packages.\n"
     ]
    },
    {
     "name": "stderr",
     "output_type": "stream",
     "text": [
      "  Running command git clone -q https://www.github.com/keras-team/keras-contrib.git 'C:\\Users\\Sunitha\\AppData\\Local\\Temp\\pip-req-build-u7_592qb'\n"
     ]
    }
   ],
   "source": [
    "pip install git+https://www.github.com/keras-team/keras-contrib.git"
   ]
  },
  {
   "cell_type": "markdown",
   "metadata": {
    "colab_type": "text",
    "id": "X1LkVQpD6x_8"
   },
   "source": [
    "Arrange data"
   ]
  },
  {
   "cell_type": "code",
   "execution_count": 8,
   "metadata": {
    "colab": {},
    "colab_type": "code",
    "id": "2_3lCHYB6x__",
    "scrolled": true
   },
   "outputs": [
    {
     "name": "stderr",
     "output_type": "stream",
     "text": [
      "'gunzip' is not recognized as an internal or external command,\n",
      "operable program or batch file.\n",
      "tar: Error opening archive: Failed to open 'UTKFace.tar'\n"
     ]
    }
   ],
   "source": [
    "!gunzip UTKFace.tar.gz\n",
    "!tar -xf UTKFace.tar"
   ]
  },
  {
   "cell_type": "code",
   "execution_count": 9,
   "metadata": {
    "colab": {},
    "colab_type": "code",
    "id": "_JfYbv4c6yAM",
    "outputId": "1cea861c-56a4-4f1f-9dae-a3703c6c5b2d"
   },
   "outputs": [
    {
     "name": "stderr",
     "output_type": "stream",
     "text": [
      "A subdirectory or file data already exists.\n",
      "The syntax of the command is incorrect.\n",
      "The syntax of the command is incorrect.\n"
     ]
    }
   ],
   "source": [
    "!mkdir data\n",
    "!mkdir data/trainA data/trainB \n",
    "!mkdir data/trainArace data/trainBrace"
   ]
  },
  {
   "cell_type": "code",
   "execution_count": 10,
   "metadata": {
    "colab": {},
    "colab_type": "code",
    "id": "mk1paMTx6yAY",
    "outputId": "e0d0504c-f92a-45b9-8cb2-1a7d31c205c2"
   },
   "outputs": [
    {
     "name": "stdout",
     "output_type": "stream",
     "text": [
      "39_1_20170116174525125.jpg.chip.jpg\n",
      "61_1_20170109142408075.jpg.chip.jpg\n",
      "61_1_20170109150557335.jpg.chip.jpg\n"
     ]
    }
   ],
   "source": [
    "import os, shutil\n",
    "images = os.listdir(\"UTKFace\")\n",
    "for f in images:\n",
    "  try:\n",
    "    val = f.split(\"_\")\n",
    "    age = int(val[0])\n",
    "    race = int(val[2])\n",
    "    if(age >=20 and age<=30):\n",
    "      shutil.copy(\"UTKFace/\"+f, \"data/trainA\")\n",
    "    if(age >=50 and age<=60):\n",
    "      shutil.copy(\"UTKFace/\"+f, \"data/trainB\")   \n",
    "    if race==0:   \n",
    "      shutil.copy(\"UTKFace/\"+f, \"data/trainArace\")\n",
    "    if race==1: \n",
    "      shutil.copy(\"UTKFace/\"+f, \"data/trainBrace\") \n",
    "  except:\n",
    "    print(f)"
   ]
  },
  {
   "cell_type": "markdown",
   "metadata": {
    "colab_type": "text",
    "id": "IgJodimN6yAk"
   },
   "source": [
    "Dataloader and preprocessing for input images"
   ]
  },
  {
   "cell_type": "code",
   "execution_count": 11,
   "metadata": {
    "colab": {},
    "colab_type": "code",
    "id": "1BwXir1W6yAp"
   },
   "outputs": [],
   "source": [
    "import scipy\n",
    "from glob import glob\n",
    "import numpy as np\n",
    "from skimage.transform import resize\n",
    "import imageio\n",
    "\n",
    "class DataLoader():\n",
    "    def __init__(self, dataset_name, img_res=(128, 128)):\n",
    "        self.dataset_name = dataset_name\n",
    "        self.img_res = img_res\n",
    "\n",
    "    def load_data(self, domain, batch_size=1, is_testing=False, is_race=False):\n",
    "        if is_race:\n",
    "          path = glob('./%s/%s%s%s/*' % (self.dataset_name, \"train\", domain, \"race\"))\n",
    "          data_type = \"train\"+\"race\"+domain\n",
    "        else:\n",
    "          path = glob('./%s/%s%s/*' % (self.dataset_name, \"train\", domain))\n",
    "        #data_type = \"train%s\" % domain if not is_testing else \"test%s\" % domain\n",
    "        \n",
    "        \n",
    "        batch_images = np.random.choice(path, size=batch_size)\n",
    "        imgs = []\n",
    "        print(domain, batch_images)\n",
    "        for img_path in batch_images:\n",
    "            img = self.imread(img_path)\n",
    "            if not is_testing:\n",
    "                img = resize(img, self.img_res)\n",
    "\n",
    "                if np.random.random() > 0.5:\n",
    "                    img = np.fliplr(img)\n",
    "            else:\n",
    "                img = resize(img, self.img_res)\n",
    "            imgs.append(img)\n",
    "\n",
    "        imgs = np.array(imgs)/127.5 - 1.\n",
    "\n",
    "        return imgs\n",
    "\n",
    "    def load_batch(self, batch_size=1, is_testing=False, is_race=False):\n",
    "        path_A = glob('./%s/%sA/*' % (self.dataset_name, \"train\"))\n",
    "        path_B = glob('./%s/%sB/*' % (self.dataset_name, \"train\"))\n",
    "        path_Arace = glob('./%s/%s/*' % (self.dataset_name, \"trainArace\"))  \n",
    "        path_Brace = glob('./%s/%s/*' % (self.dataset_name, \"trainBrace\")) \n",
    "        print(len(path_A), len(path_B), len(path_Arace), len(path_Brace))\n",
    "        self.n_batches = int(min(len(path_A), len(path_B), len(path_Arace), len(path_Brace)) / batch_size)\n",
    "        if is_race:\n",
    "          path_A, path_B = path_Arace, path_Brace        \n",
    "        total_samples = self.n_batches * batch_size\n",
    "\n",
    "        # Sample n_batches * batch_size from each path list so that model sees all\n",
    "        # samples from both domains\n",
    "        path_A = np.random.choice(path_A, total_samples, replace=False)\n",
    "        path_B = np.random.choice(path_B, total_samples, replace=False)\n",
    "\n",
    "        for i in range(self.n_batches-1):\n",
    "            batch_A = path_A[i*batch_size:(i+1)*batch_size]\n",
    "            batch_B = path_B[i*batch_size:(i+1)*batch_size]\n",
    "            imgs_A, imgs_B = [], []\n",
    "            for img_A, img_B in zip(batch_A, batch_B):            \n",
    "                img_A = self.imread(img_A)\n",
    "                img_B = self.imread(img_B)\n",
    "\n",
    "                img_A = resize(img_A, self.img_res)\n",
    "                img_B = resize(img_B, self.img_res)\n",
    "\n",
    "                if not is_testing and np.random.random() > 0.5:\n",
    "                        img_A = np.fliplr(img_A)\n",
    "                        img_B = np.fliplr(img_B)\n",
    "\n",
    "                imgs_A.append(img_A)\n",
    "                imgs_B.append(img_B)\n",
    "\n",
    "            imgs_A = np.array(imgs_A)/127.5 - 1.\n",
    "            imgs_B = np.array(imgs_B)/127.5 - 1.\n",
    "\n",
    "            yield imgs_A, imgs_B\n",
    "\n",
    "    def load_img(self, path):\n",
    "        img = self.imread(path)\n",
    "        img = resize(img, self.img_res)\n",
    "        img = img/127.5 - 1.\n",
    "        return img[np.newaxis, :, :, :]\n",
    "      \n",
    "    def get_img(self, img):\n",
    "        img = resize(img, self.img_res)\n",
    "        img = img/127.5 - 1.\n",
    "        return img\n",
    "      \n",
    "    def revert_img(self, img, new_res):\n",
    "      img = resize(img, new_res)\n",
    "      img = (img)*0.5 + 0.5\n",
    "      img = img*255\n",
    "      img = img.astype(np.float32)\n",
    "      return img \n",
    "\n",
    "    def imread(self, path):\n",
    "        return imageio.imread(path, as_gray=False, pilmode=\"RGB\").astype(np.float)\n",
    "      \n",
    "def revert_img(img, new_res):\n",
    "  img = (img)*0.5 + 0.5\n",
    "  img = img*255\n",
    "  img = resize(img, new_res)\n",
    "  img = img.astype(np.float32)\n",
    "  return img"
   ]
  },
  {
   "cell_type": "markdown",
   "metadata": {
    "colab_type": "text",
    "id": "sQp-OmMC6yA0"
   },
   "source": [
    "CycleGan code.\n",
    "Follow the tricks mentioned in the article"
   ]
  },
  {
   "cell_type": "code",
   "execution_count": null,
   "metadata": {
    "colab": {},
    "colab_type": "code",
    "id": "wtKK9-G46yA4",
    "scrolled": true
   },
   "outputs": [
    {
     "name": "stderr",
     "output_type": "stream",
     "text": [
      "Using TensorFlow backend.\n",
      "WARNING: Logging before flag parsing goes to stderr.\n",
      "W1214 08:15:05.272728 15180 deprecation_wrapper.py:119] From D:\\ProgramData\\Anaconda3\\lib\\site-packages\\keras\\backend\\tensorflow_backend.py:74: The name tf.get_default_graph is deprecated. Please use tf.compat.v1.get_default_graph instead.\n",
      "\n",
      "W1214 08:15:05.272728 15180 deprecation_wrapper.py:119] From D:\\ProgramData\\Anaconda3\\lib\\site-packages\\keras\\backend\\tensorflow_backend.py:517: The name tf.placeholder is deprecated. Please use tf.compat.v1.placeholder instead.\n",
      "\n",
      "W1214 08:15:05.291926 15180 deprecation_wrapper.py:119] From D:\\ProgramData\\Anaconda3\\lib\\site-packages\\keras\\backend\\tensorflow_backend.py:4138: The name tf.random_uniform is deprecated. Please use tf.random.uniform instead.\n",
      "\n",
      "W1214 08:15:05.554041 15180 deprecation_wrapper.py:119] From D:\\ProgramData\\Anaconda3\\lib\\site-packages\\keras\\optimizers.py:790: The name tf.train.Optimizer is deprecated. Please use tf.compat.v1.train.Optimizer instead.\n",
      "\n"
     ]
    },
    {
     "name": "stdout",
     "output_type": "stream",
     "text": [
      "8068 2592 10078 4526\n"
     ]
    },
    {
     "name": "stderr",
     "output_type": "stream",
     "text": [
      "W1214 08:15:15.776977 15180 deprecation_wrapper.py:119] From D:\\ProgramData\\Anaconda3\\lib\\site-packages\\keras\\backend\\tensorflow_backend.py:2741: The name tf.Session is deprecated. Please use tf.compat.v1.Session instead.\n",
      "\n",
      "W1214 08:15:15.788419 15180 deprecation_wrapper.py:119] From D:\\ProgramData\\Anaconda3\\lib\\site-packages\\keras\\backend\\tensorflow_backend.py:174: The name tf.get_default_session is deprecated. Please use tf.compat.v1.get_default_session instead.\n",
      "\n",
      "D:\\ProgramData\\Anaconda3\\lib\\site-packages\\keras\\engine\\training.py:490: UserWarning: Discrepancy between trainable weights and collected trainable weights, did you set `model.trainable` without calling `model.compile` after ?\n",
      "  'Discrepancy between trainable weights and collected trainable'\n",
      "D:\\ProgramData\\Anaconda3\\lib\\site-packages\\keras\\engine\\training.py:490: UserWarning: Discrepancy between trainable weights and collected trainable weights, did you set `model.trainable` without calling `model.compile` after ?\n",
      "  'Discrepancy between trainable weights and collected trainable'\n",
      "D:\\ProgramData\\Anaconda3\\lib\\site-packages\\keras\\engine\\training.py:490: UserWarning: Discrepancy between trainable weights and collected trainable weights, did you set `model.trainable` without calling `model.compile` after ?\n",
      "  'Discrepancy between trainable weights and collected trainable'\n"
     ]
    },
    {
     "name": "stdout",
     "output_type": "stream",
     "text": [
      "[Age Epoch 0/50] [Batch 0/1296] [D loss: 12.538563, acc:  13%] [G loss: 409.774597, adv: 202.731674, recon: 2.077290, id: 0.738165]  time: 0:08:01.200151 \n",
      "8068 2592 10078 4526\n"
     ]
    },
    {
     "name": "stderr",
     "output_type": "stream",
     "text": [
      "D:\\ProgramData\\Anaconda3\\lib\\site-packages\\keras\\engine\\training.py:490: UserWarning: Discrepancy between trainable weights and collected trainable weights, did you set `model.trainable` without calling `model.compile` after ?\n",
      "  'Discrepancy between trainable weights and collected trainable'\n",
      "D:\\ProgramData\\Anaconda3\\lib\\site-packages\\keras\\engine\\training.py:490: UserWarning: Discrepancy between trainable weights and collected trainable weights, did you set `model.trainable` without calling `model.compile` after ?\n",
      "  'Discrepancy between trainable weights and collected trainable'\n",
      "D:\\ProgramData\\Anaconda3\\lib\\site-packages\\keras\\engine\\training.py:490: UserWarning: Discrepancy between trainable weights and collected trainable weights, did you set `model.trainable` without calling `model.compile` after ?\n",
      "  'Discrepancy between trainable weights and collected trainable'\n"
     ]
    }
   ],
   "source": [
    "from __future__ import print_function, division\n",
    "import scipy, os\n",
    "import scipy.misc\n",
    "\n",
    "from keras.datasets import mnist\n",
    "from keras_contrib.layers.normalization.instancenormalization import InstanceNormalization\n",
    "from keras.layers import Input, Dense, Reshape, Flatten, Dropout, Concatenate\n",
    "from keras.layers import BatchNormalization, Activation, ZeroPadding2D\n",
    "from keras.layers.advanced_activations import LeakyReLU\n",
    "from keras.activations import relu \n",
    "from keras.layers.convolutional import UpSampling2D, Conv2D, Conv2DTranspose\n",
    "from keras.models import Sequential, Model\n",
    "from keras.optimizers import Adam\n",
    "import datetime\n",
    "import matplotlib.pyplot as plt\n",
    "import sys\n",
    "import numpy as np\n",
    "import os\n",
    "import keras\n",
    "import shutil, os, random\n",
    "from keras.models import load_model\n",
    "\n",
    "class CycleGAN():\n",
    "    def __init__(self):\n",
    "        # Input shape\n",
    "        self.img_rows = 256\n",
    "        self.img_cols = 256\n",
    "        self.channels = 3\n",
    "        self.img_shape = (self.img_rows, self.img_cols, self.channels)\n",
    "        self.condition_shape = (self.img_rows, self.img_cols, 1)        \n",
    "\n",
    "        # Configure data loader\n",
    "        self.dataset_name = 'data'\n",
    "        self.data_loader = DataLoader(dataset_name=self.dataset_name,\n",
    "                                      img_res=(self.img_rows, self.img_cols))\n",
    "\n",
    "\n",
    "        # Calculate output shape of D (PatchGAN)\n",
    "  \n",
    "\n",
    "        patch = int(self.img_rows / 2**4)\n",
    "        self.disc_patch = (patch, patch, 1)\n",
    "\n",
    "        # Number of filters in the first layer of G and D\n",
    "        self.gf = 64\n",
    "        self.df = 64\n",
    "\n",
    "        # Loss weights\n",
    "        self.lambda_cycle = 0.1                   # Cycle-consistency loss\n",
    "        self.lambda_id = 0.1 * self.lambda_cycle    # Identity loss\n",
    "\n",
    "        optimizer = Adam(0.0002, 0.5)\n",
    "        # Build and compile the discriminators\n",
    "        self.d_A = self.build_discriminator()\n",
    "        if os.path.exists(\"d_A.h5\"):\n",
    "            self.d_A.load_weights(\"d_A.h5\")\n",
    "        self.d_A.compile(loss='mse',\n",
    "          optimizer=optimizer,\n",
    "          metrics=['accuracy'])\n",
    "        \n",
    "        \n",
    "        self.d_Arace = self.build_discriminator()\n",
    "        if os.path.exists(\"d_Arace.h5\"):\n",
    "            self.d_Arace.load_weights(\"d_Arace.h5\")        \n",
    "        self.d_Arace.compile(loss='mse',\n",
    "          optimizer=optimizer,\n",
    "          metrics=['accuracy'])        \n",
    "        \n",
    "        \n",
    "        self.d_B = self.build_discriminator()\n",
    "        if os.path.exists(\"d_B.h5\"):\n",
    "            self.d_A.load_weights(\"d_B.h5\")        \n",
    "        self.d_B.compile(loss='mse',\n",
    "          optimizer=optimizer,\n",
    "          metrics=['accuracy'])\n",
    "        \n",
    "        self.d_Brace = self.build_discriminator()\n",
    "        if os.path.exists(\"d_Brace.h5\"):\n",
    "            self.d_A.load_weights(\"d_Brace.h5\")        \n",
    "        self.d_Brace.compile(loss='mse',\n",
    "          optimizer=optimizer,\n",
    "          metrics=['accuracy'])        \n",
    "        \n",
    "\n",
    "        #-------------------------\n",
    "        # Construct Computational\n",
    "        #   Graph of Generators\n",
    "        #-------------------------\n",
    "\n",
    "        # Build the generators\n",
    "        self.g_AB = self.build_generator()\n",
    "        if os.path.exists(\"g_AB.h5\"):\n",
    "            self.d_A.load_weights(\"g_AB.h5\")        \n",
    "        self.g_BA = self.build_generator()\n",
    "        if os.path.exists(\"g_BA.h5\"):\n",
    "            self.d_A.load_weights(\"g_BA.h5\")        \n",
    "\n",
    "        # Input images from both domains\n",
    "        img_A = Input(shape=self.img_shape)\n",
    "        img_B = Input(shape=self.img_shape)\n",
    "        label = Input(shape=self.condition_shape) \n",
    "\n",
    "        # Translate images to the other domain\n",
    "        fake_B = self.g_AB([img_A, label])\n",
    "        fake_A = self.g_BA([img_B, label])\n",
    "        # Translate images back to original domain\n",
    "        reconstr_A = self.g_BA([fake_B, label])\n",
    "        reconstr_B = self.g_AB([fake_A, label])\n",
    "        # Identity mapping of images\n",
    "        img_A_id = self.g_BA([img_A, label])\n",
    "        img_B_id = self.g_AB([img_B, label])\n",
    "\n",
    "        # For the combined model we will only train the generators\n",
    "        self.d_A.trainable = False\n",
    "        self.d_B.trainable = False\n",
    "        self.d_Arace.trainable = False\n",
    "        self.d_Brace.trainable = False        \n",
    "\n",
    "        # Discriminators determines validity of translated images\n",
    "        valid_A = self.d_A(fake_A)\n",
    "        valid_B = self.d_B(fake_B)\n",
    "        valid_Arace = self.d_Arace(fake_A)\n",
    "        valid_Brace = self.d_Brace(fake_B)        \n",
    "\n",
    "        # Combined model trains generators to fool discriminators\n",
    "        self.combined = Model(inputs=[img_A, img_B, label],\n",
    "                                outputs=[ valid_A, valid_B,\n",
    "                                         valid_Arace, valid_Brace,\n",
    "                                        reconstr_A, reconstr_B,\n",
    "                                        img_A_id, img_B_id ])\n",
    "        if os.path.exists(\"combined.h5\"):\n",
    "            self.combined.load_weights(\"combined.h5\")        \n",
    "        self.combined.compile(loss=['mse', 'mse',\n",
    "                                    'mse', 'mse',\n",
    "                                  'mae', 'mae',\n",
    "                                  'mae', 'mae'],\n",
    "                            loss_weights=[  1, 1,\n",
    "                                            1, 1,\n",
    "                                          self.lambda_cycle, self.lambda_cycle,\n",
    "                                          self.lambda_id, self.lambda_id ],\n",
    "                            optimizer=optimizer)\n",
    "\n",
    "    def build_generator(self):\n",
    "        \"\"\"Resnet Generator\"\"\"\n",
    "\n",
    "        def conv2d(layer_input, filters=16, strides=1, name=None, f_size=4):\n",
    "            d = Conv2D(filters, kernel_size=f_size, strides=strides, padding='same', name=name)(layer_input)\n",
    "            d = InstanceNormalization(name=name+\"_bn\")(d)\n",
    "            d = Activation('relu')(d)\n",
    "            return d\n",
    "          \n",
    "        def residual(layer_input, filters=16, strides=1, name=None, f_size=3):\n",
    "            d = conv2d(layer_input, filters=filters, strides=strides, name=name, f_size=f_size)\n",
    "            d = Conv2D(filters, kernel_size=f_size, strides=strides, padding='same', name=name+\"_2\")(d)\n",
    "            d = InstanceNormalization(name=name+\"_bn2\")(d)\n",
    "            d = keras.layers.add([d, layer_input])\n",
    "            return d\n",
    "\n",
    "        def conv2d_transpose(layer_input, filters=16, strides=1, name=None, f_size=4):\n",
    "            u = Conv2DTranspose(filters, strides=strides, name=name, kernel_size=f_size, padding='same')(layer_input)\n",
    "            u = InstanceNormalization(name=name+\"_bn\")(u)\n",
    "            u = Activation('relu')(u)\n",
    "            return u\n",
    "\n",
    "        # Image input\n",
    "        c0 = Input(shape=self.img_shape)\n",
    "        cl = Input(shape=self.condition_shape)\n",
    "        concat_layer= Concatenate()([c0, cl])\n",
    "        c1 = conv2d(concat_layer, filters=self.gf, strides=1, name=\"g_e1\", f_size=7)\n",
    "        c2 = conv2d(c1, filters=self.gf*2, strides=2, name=\"g_e2\", f_size=3)\n",
    "        c3 = conv2d(c2, filters=self.gf*4, strides=2, name=\"g_e3\", f_size=3)\n",
    "        \n",
    "        r1 = residual(c3, filters=self.gf*4, name='g_r1')\n",
    "        r2 = residual(r1, self.gf*4, name='g_r2')\n",
    "        r3 = residual(r2, self.gf*4, name='g_r3')\n",
    "        r4 = residual(r3, self.gf*4, name='g_r4')\n",
    "        r5 = residual(r4, self.gf*4, name='g_r5')\n",
    "        r6 = residual(r5, self.gf*4, name='g_r6')\n",
    "        r7 = residual(r6, self.gf*4, name='g_r7')\n",
    "        r8 = residual(r7, self.gf*4, name='g_r8')\n",
    "        r9 = residual(r8, self.gf*4, name='g_r9')\n",
    "        \n",
    "        d1 = conv2d_transpose(r9, filters=self.gf*2, f_size=3, strides=2, name='g_d1_dc')\n",
    "        d2 = conv2d_transpose(d1, filters=self.gf, f_size=3, strides=2, name='g_d2_dc')\n",
    "        \n",
    "        output_img = Conv2D(self.channels, kernel_size=7, strides=1, padding='same', activation='tanh')(d2)\n",
    "\n",
    "        return Model(inputs=[c0, cl], outputs=[output_img])\n",
    "\n",
    "    def build_discriminator(self):\n",
    "\n",
    "        def d_layer(layer_input, filters, f_size=4, normalization=True):\n",
    "            \"\"\"Discriminator layer\"\"\"\n",
    "            d = Conv2D(filters, kernel_size=f_size, strides=2, padding='same')(layer_input)\n",
    "            d = LeakyReLU(alpha=0.2)(d)\n",
    "            if normalization:\n",
    "                d = InstanceNormalization()(d)\n",
    "            return d\n",
    "\n",
    "        img = Input(shape=self.img_shape)\n",
    "\n",
    "        d1 = d_layer(img, self.df, normalization=False)\n",
    "        d2 = d_layer(d1, self.df*2)\n",
    "        d3 = d_layer(d2, self.df*4)\n",
    "        d4 = d_layer(d3, self.df*8)\n",
    "\n",
    "        validity = Conv2D(1, kernel_size=4, strides=1, padding='same')(d4)\n",
    "\n",
    "        return Model(img, validity)\n",
    "\n",
    "    def train(self, epochs, batch_size=1, sample_interval=50):\n",
    "\n",
    "        start_time = datetime.datetime.now()\n",
    "        \n",
    "        # Adversarial loss ground truths\n",
    "        valid = np.ones((batch_size,) + self.disc_patch)\n",
    "        fake = np.zeros((batch_size,) + self.disc_patch)\n",
    "        case1 = np.ones(self.condition_shape)\n",
    "        case2 = np.zeros(self.condition_shape)        \n",
    "        for epoch in range(epochs):\n",
    "            race_data = self.data_loader.load_batch(batch_size, is_race=True)\n",
    "            for batch_i, (imgs_A, imgs_B) in enumerate(self.data_loader.load_batch(batch_size)):\n",
    "\n",
    "                # ----------------------\n",
    "                #  Train Discriminators\n",
    "                # ----------------------\n",
    "\n",
    "                # Translate images to opposite domain            \n",
    "                case1stack = np.array([case1]*len(imgs_A))\n",
    "                fake_B = self.g_AB.predict([imgs_A, case1stack])\n",
    "                fake_A = self.g_BA.predict([imgs_B, case1stack])\n",
    "\n",
    "                # Train the discriminators (original images = real / translated = Fake)\n",
    "                dA_loss_real = self.d_A.train_on_batch(imgs_A, valid)\n",
    "                dA_loss_fake = self.d_A.train_on_batch(fake_A, fake)               \n",
    "                dA_loss = 0.5 * np.add(dA_loss_real, dA_loss_fake)\n",
    "\n",
    "                dB_loss_real = self.d_B.train_on_batch(imgs_B, valid)                \n",
    "                dB_loss_fake = self.d_B.train_on_batch(fake_B, fake)                \n",
    "                dB_loss = 0.5 * np.add(dB_loss_real, dB_loss_fake)\n",
    "\n",
    "                # Total disciminator loss\n",
    "                d_loss = 0.5 * np.add(dA_loss, dB_loss)\n",
    "\n",
    "                validA = self.d_Arace.predict(imgs_A)\n",
    "                validB = self.d_Brace.predict(imgs_B)                \n",
    "                # ------------------\n",
    "                #  Train Generators\n",
    "                # ------------------\n",
    "\n",
    "                # Train the generators\n",
    "                g_loss = self.combined.train_on_batch([imgs_A, imgs_B, case1stack],\n",
    "                                                        [valid, valid,\n",
    "                                                         validA, validB,\n",
    "                                                        imgs_A, imgs_B,\n",
    "                                                        imgs_A, imgs_B])                                          \n",
    "                \n",
    "                elapsed_time = datetime.datetime.now() - start_time\n",
    "                if batch_i%50==0:\n",
    "                  # Plot the progress\n",
    "                  print (\"[Age Epoch %d/%d] [Batch %d/%d] [D loss: %f, acc: %3d%%] [G loss: %05f, adv: %05f, recon: %05f, id: %05f]  time: %s \" \\\n",
    "                                                                          % ( epoch, epochs,\n",
    "                                                                              batch_i, self.data_loader.n_batches,\n",
    "                                                                              d_loss[0], 100*d_loss[1],\n",
    "                                                                              g_loss[0],\n",
    "                                                                              np.mean(g_loss[1:3]),\n",
    "                                                                              np.mean(g_loss[3:5]),\n",
    "                                                                              np.mean(g_loss[5:6]),\n",
    "                                                                              elapsed_time))  \n",
    "                  \n",
    "                imgs_A, imgs_B = next(race_data)\n",
    "                case2stack = np.array([case2]*len(imgs_A))                   \n",
    "                fake_B = self.g_AB.predict([imgs_A, case2stack])\n",
    "                fake_A = self.g_BA.predict([imgs_B, case2stack])\n",
    "\n",
    "                # Train the discriminators (original images = real / translated = Fake)\n",
    "                dA_loss_real = self.d_Arace.train_on_batch(imgs_A, valid)\n",
    "                dA_loss_fake = self.d_Arace.train_on_batch(fake_A, fake)               \n",
    "                dA_loss = 0.5 * np.add(dA_loss_real, dA_loss_fake)\n",
    "\n",
    "                dB_loss_real = self.d_Brace.train_on_batch(imgs_B, valid)                \n",
    "                dB_loss_fake = self.d_Brace.train_on_batch(fake_B, fake)                \n",
    "                dB_loss = 0.5 * np.add(dB_loss_real, dB_loss_fake)\n",
    "\n",
    "                # Total disciminator loss\n",
    "                d_loss = 0.5 * np.add(dA_loss, dB_loss)\n",
    "\n",
    "                validA = self.d_A.predict(imgs_A)\n",
    "                validB = self.d_B.predict(imgs_B)                \n",
    "                # ------------------\n",
    "                #  Train Generators\n",
    "                # ------------------\n",
    "\n",
    "                # Train the generators\n",
    "                \n",
    "                g_loss = self.combined.train_on_batch([imgs_A, imgs_B, case2stack],\n",
    "                                                        [validA, validB,\n",
    "                                                         valid, valid,\n",
    "                                                        imgs_A, imgs_B,\n",
    "                                                        imgs_A, imgs_B])                  \n",
    "                \n",
    "\n",
    "                elapsed_time = datetime.datetime.now() - start_time\n",
    "                if batch_i%50==0:\n",
    "                  # Plot the progress\n",
    "                  # \n",
    "                  print (\"[Race Epoch %d/%d] [Batch %d/%d] [D loss: %f, acc: %3d%%] [G loss: %05f, adv: %05f, recon: %05f, id: %05f] time: %s \" \\\n",
    "                                                                        % ( epoch, epochs,\n",
    "                                                                            batch_i, self.data_loader.n_batches,\n",
    "                                                                            d_loss[0], 100*d_loss[1],\n",
    "                                                                            g_loss[0],\n",
    "                                                                            np.mean(g_loss[1:3]),\n",
    "                                                                            np.mean(g_loss[3:5]),\n",
    "                                                                            np.mean(g_loss[5:6]),\n",
    "                                                                            elapsed_time))\n",
    "                                                        \n",
    "                                                                              \n",
    "                # If at save interval => save generated image samples\n",
    "                if batch_i % sample_interval == 0:\n",
    "                    self.sample_images(epoch, batch_i, 1)    \n",
    "                    self.g_AB.save_weights(\"g_AB.h5\")\n",
    "                    self.g_BA.save_weights(\"g_BA.h5\")  \n",
    "                    self.d_A.save_weights(\"d_A.h5\")\n",
    "                    self.d_B.save_weights(\"d_B.h5\")       \n",
    "                    self.d_Arace.save_weights(\"d_Arace.h5\")  \n",
    "                    self.d_Brace.save_weights(\"d_Brace.h5\")  \n",
    "                    self.combined.save_weights(\"combined.h5\")\n",
    "                  \n",
    "            \n",
    "    def sample_images(self, epoch, batch_i, ctype):\n",
    "        os.makedirs('images/%s' % self.dataset_name, exist_ok=True)\n",
    "        r, c = 2, 3\n",
    "        imgs_A = self.data_loader.load_data(domain=\"A\", batch_size=1, is_testing=False, is_race=False)\n",
    "        imgs_B = self.data_loader.load_data(domain=\"B\", batch_size=1, is_testing=False, is_race=False)\n",
    "\n",
    "        # Translate images to the other domain\n",
    "        case1 = np.ones(self.condition_shape)\n",
    "        case2 = np.zeros(self.condition_shape)\n",
    "        case = case1\n",
    "        casestack = np.array([case]*len(imgs_A))  \n",
    "        fake_B = self.g_AB.predict([imgs_A, casestack])\n",
    "        fake_A = self.g_BA.predict([imgs_B, casestack])\n",
    "        # Translate back to original domain\n",
    "        reconstr_A = self.g_BA.predict([fake_B, casestack])\n",
    "        reconstr_B = self.g_AB.predict([fake_A, casestack])\n",
    "\n",
    "        gen_imgs = np.concatenate([imgs_A, fake_B, reconstr_A, imgs_B, fake_A, reconstr_B])\n",
    "\n",
    "        # Rescale images 0 - 1\n",
    "        gen_imgs = 0.5 * gen_imgs + 0.5\n",
    "\n",
    "        titles = ['Original', 'Translated', 'Reconstructed']\n",
    "        fig, axs = plt.subplots(r, c)\n",
    "        cnt = 0\n",
    "        for i in range(r):\n",
    "            for j in range(c):\n",
    "                axs[i,j].imshow(gen_imgs[cnt])\n",
    "                axs[i, j].set_title(titles[j])\n",
    "                axs[i,j].axis('off')\n",
    "                cnt += 1\n",
    "        fig.savefig(\"images/%s/%d_%d.png\" % (self.dataset_name, epoch, batch_i))\n",
    "        plt.close()\n",
    "        \n",
    "        case = case2\n",
    "        casestack = np.array([case]*len(imgs_A))  \n",
    "\n",
    "        imgs_A = self.data_loader.load_data(domain=\"A\", batch_size=1, is_testing=False, is_race=True)\n",
    "        imgs_B = self.data_loader.load_data(domain=\"B\", batch_size=1, is_testing=False, is_race=True)\n",
    "\n",
    "        # Translate images to the other domain\n",
    "        fake_B = self.g_AB.predict([imgs_A, casestack])\n",
    "        fake_A = self.g_BA.predict([imgs_B, casestack])\n",
    "        # Translate back to original domain\n",
    "        reconstr_A = self.g_BA.predict([fake_B, casestack])\n",
    "        reconstr_B = self.g_AB.predict([fake_A, casestack])\n",
    "\n",
    "        gen_imgs = np.concatenate([imgs_A, fake_B, reconstr_A, imgs_B, fake_A, reconstr_B])\n",
    "\n",
    "        # Rescale images 0 - 1\n",
    "        gen_imgs = 0.5 * gen_imgs + 0.5\n",
    "\n",
    "        titles = ['Original', 'Translated', 'Reconstructed']\n",
    "        fig, axs = plt.subplots(r, c)\n",
    "        cnt = 0\n",
    "        for i in range(r):\n",
    "            for j in range(c):\n",
    "                axs[i,j].imshow(gen_imgs[cnt])\n",
    "                axs[i, j].set_title(titles[j])\n",
    "                axs[i,j].axis('off')\n",
    "                cnt += 1\n",
    "        fig.savefig(\"images/%s/race%d_%d.png\" % (self.dataset_name, epoch, batch_i))\n",
    "        plt.close()        \n",
    "        \n",
    "    def run_20_to_50(self, image):\n",
    "        imgs_A = self.data_loader.load_data(domain=\"A\", batch_size=1, is_testing=True)        \n",
    "        fake_B = self.g_AB.predict(imgs_A)\n",
    "\n",
    "gan = CycleGAN()\n",
    "gan.train(epochs=50, batch_size=2, sample_interval=10)"
   ]
  },
  {
   "cell_type": "markdown",
   "metadata": {
    "colab_type": "text",
    "id": "9S7wlTx56yBE"
   },
   "source": [
    "Face Detection"
   ]
  },
  {
   "cell_type": "code",
   "execution_count": 1,
   "metadata": {
    "colab": {},
    "colab_type": "code",
    "id": "Y0B1gsLu6yBJ"
   },
   "outputs": [
    {
     "name": "stderr",
     "output_type": "stream",
     "text": [
      "'wget' is not recognized as an internal or external command,\n",
      "operable program or batch file.\n",
      "'wget' is not recognized as an internal or external command,\n",
      "operable program or batch file.\n"
     ]
    }
   ],
   "source": [
    "!wget https://github.com/spmallick/learnopencv/raw/master/FaceDetectionComparison/models/opencv_face_detector_uint8.pb\n",
    "!wget https://raw.githubusercontent.com/opencv/opencv_extra/master/testdata/dnn/opencv_face_detector.pbtxt"
   ]
  },
  {
   "cell_type": "code",
   "execution_count": 2,
   "metadata": {
    "colab": {},
    "colab_type": "code",
    "id": "FM5qs6bl6yBV"
   },
   "outputs": [
    {
     "name": "stderr",
     "output_type": "stream",
     "text": [
      "'wget' is not recognized as an internal or external command,\n",
      "operable program or batch file.\n",
      "'mv' is not recognized as an internal or external command,\n",
      "operable program or batch file.\n"
     ]
    }
   ],
   "source": [
    "!wget https://statics.sportskeeda.com/editor/2018/09/4c606-1536825356-800.jpg \n",
    "!mv 4c606-1536825356-800.jpg big3.jpg"
   ]
  },
  {
   "cell_type": "code",
   "execution_count": 3,
   "metadata": {
    "colab": {},
    "colab_type": "code",
    "id": "Ece72ZX16yBp"
   },
   "outputs": [
    {
     "ename": "error",
     "evalue": "OpenCV(4.1.0) C:\\projects\\opencv-python\\opencv\\modules\\dnn\\src\\caffe\\caffe_io.cpp:1132: error: (-2:Unspecified error) FAILED: fs.is_open(). Can't open \"opencv_face_detector_uint8.pb\" in function 'cv::dnn::ReadProtoFromBinaryFile'\n",
     "output_type": "error",
     "traceback": [
      "\u001b[1;31m---------------------------------------------------------------------------\u001b[0m",
      "\u001b[1;31merror\u001b[0m                                     Traceback (most recent call last)",
      "\u001b[1;32m<ipython-input-3-90bea6567175>\u001b[0m in \u001b[0;36m<module>\u001b[1;34m\u001b[0m\n\u001b[0;32m     46\u001b[0m \u001b[0mmodelFile\u001b[0m \u001b[1;33m=\u001b[0m \u001b[1;34m\"opencv_face_detector_uint8.pb\"\u001b[0m\u001b[1;33m\u001b[0m\u001b[1;33m\u001b[0m\u001b[0m\n\u001b[0;32m     47\u001b[0m \u001b[0mconfigFile\u001b[0m \u001b[1;33m=\u001b[0m \u001b[1;34m\"opencv_face_detector.pbtxt\"\u001b[0m\u001b[1;33m\u001b[0m\u001b[1;33m\u001b[0m\u001b[0m\n\u001b[1;32m---> 48\u001b[1;33m \u001b[0mnet\u001b[0m \u001b[1;33m=\u001b[0m \u001b[0mcv2\u001b[0m\u001b[1;33m.\u001b[0m\u001b[0mdnn\u001b[0m\u001b[1;33m.\u001b[0m\u001b[0mreadNetFromTensorflow\u001b[0m\u001b[1;33m(\u001b[0m\u001b[0mmodelFile\u001b[0m\u001b[1;33m,\u001b[0m \u001b[0mconfigFile\u001b[0m\u001b[1;33m)\u001b[0m\u001b[1;33m\u001b[0m\u001b[1;33m\u001b[0m\u001b[0m\n\u001b[0m\u001b[0;32m     49\u001b[0m \u001b[0mframe\u001b[0m \u001b[1;33m=\u001b[0m \u001b[0mcv2\u001b[0m\u001b[1;33m.\u001b[0m\u001b[0mimread\u001b[0m\u001b[1;33m(\u001b[0m\u001b[1;34m\"big3.jpg\"\u001b[0m\u001b[1;33m)\u001b[0m\u001b[1;33m\u001b[0m\u001b[1;33m\u001b[0m\u001b[0m\n\u001b[0;32m     50\u001b[0m \u001b[0moutOpencvDnn\u001b[0m\u001b[1;33m,\u001b[0m \u001b[0mbboxes\u001b[0m \u001b[1;33m=\u001b[0m \u001b[0mdetectFaceOpenCVDnn\u001b[0m\u001b[1;33m(\u001b[0m\u001b[0mnet\u001b[0m\u001b[1;33m,\u001b[0m\u001b[0mframe\u001b[0m\u001b[1;33m,\u001b[0m\u001b[1;36m0\u001b[0m\u001b[1;33m)\u001b[0m\u001b[1;33m\u001b[0m\u001b[1;33m\u001b[0m\u001b[0m\n",
      "\u001b[1;31merror\u001b[0m: OpenCV(4.1.0) C:\\projects\\opencv-python\\opencv\\modules\\dnn\\src\\caffe\\caffe_io.cpp:1132: error: (-2:Unspecified error) FAILED: fs.is_open(). Can't open \"opencv_face_detector_uint8.pb\" in function 'cv::dnn::ReadProtoFromBinaryFile'\n"
     ]
    }
   ],
   "source": [
    "import cv2\n",
    "%matplotlib inline \n",
    "from matplotlib import pyplot as plt\n",
    "from PIL import Image\n",
    "def detectFaceOpenCVDnn(net, frame, ctype):\n",
    "    frameOpencvDnn = frame.copy()\n",
    "    frameHeight = frameOpencvDnn.shape[0]\n",
    "    frameWidth = frameOpencvDnn.shape[1]\n",
    "    blob = cv2.dnn.blobFromImage(frameOpencvDnn, 1.0, (frameHeight, frameWidth), [104, 117, 123], False, False)\n",
    "\n",
    "    net.setInput(blob)\n",
    "    detections = net.forward()\n",
    "    bboxes = []\n",
    "    for i in range(detections.shape[2]):\n",
    "        confidence = detections[0, 0, i, 2]\n",
    "        if confidence > conf_threshold:\n",
    "            x1 = int(detections[0, 0, i, 3] * frameWidth)\n",
    "            y1 = int(detections[0, 0, i, 4] * frameHeight)\n",
    "            x2 = int(detections[0, 0, i, 5] * frameWidth)\n",
    "            y2 = int(detections[0, 0, i, 6] * frameHeight)\n",
    "            bboxes.append([x1, y1, x2, y2])\n",
    "            if not(x1<30 or y1<30 or x2>frameWidth-30 or y2>frameHeight-30):\n",
    "              y1, y2 = y1-20, y2+20\n",
    "              x1, x2 = x1-20, x2+20\n",
    "            else:\n",
    "              continue\n",
    "            crop_img = frameOpencvDnn[y1:y2, x1:x2]\n",
    "            crop_img = cv2.cvtColor(crop_img, cv2.COLOR_BGR2RGB).astype(\"float32\")\n",
    "            cv2.imwrite(\"cropped\"+str(i)+\".jpg\", crop_img)\n",
    "            inp = np.array([gan.data_loader.get_img(crop_img)])\n",
    "            case1 = np.ones(gan.condition_shape)\n",
    "            case2 = np.zeros(gan.condition_shape)   \n",
    "            if ctype==0:\n",
    "              case = case1\n",
    "            else:\n",
    "              case = case2\n",
    "            case1stack = np.array([case]*1)\n",
    "            old_img = gan.g_AB.predict([inp, case1stack])\n",
    "            new_img = revert_img(old_img[0], (y2-y1, x2-x1))\n",
    "            new_img = cv2.cvtColor(new_img, cv2.COLOR_RGB2BGR).astype(\"float32\")\n",
    "            frameOpencvDnn[y1:y2, x1:x2] = new_img\n",
    "            scipy.misc.imsave(\"old\"+str(i)+\".jpg\", new_img)\n",
    "    return frameOpencvDnn, bboxes\n",
    "  \n",
    "conf_threshold = 0.8\n",
    "modelFile = \"opencv_face_detector_uint8.pb\"\n",
    "configFile = \"opencv_face_detector.pbtxt\"\n",
    "net = cv2.dnn.readNetFromTensorflow(modelFile, configFile)\n",
    "frame = cv2.imread(\"big3.jpg\")\n",
    "outOpencvDnn, bboxes = detectFaceOpenCVDnn(net,frame,0)\n",
    "cv2.imwrite(\"big3_old.jpg\", outOpencvDnn)\n",
    "outOpencvDnn, bboxes = detectFaceOpenCVDnn(net,frame,1)\n",
    "cv2.imwrite(\"big3_black.jpg\", outOpencvDnn)"
   ]
  },
  {
   "cell_type": "code",
   "execution_count": null,
   "metadata": {},
   "outputs": [],
   "source": []
  },
  {
   "cell_type": "code",
   "execution_count": null,
   "metadata": {},
   "outputs": [],
   "source": []
  },
  {
   "cell_type": "code",
   "execution_count": null,
   "metadata": {},
   "outputs": [],
   "source": []
  },
  {
   "cell_type": "code",
   "execution_count": null,
   "metadata": {},
   "outputs": [],
   "source": []
  }
 ],
 "metadata": {
  "colab": {
   "name": "Cycle_gan_keras_conditional.ipynb",
   "provenance": []
  },
  "kernelspec": {
   "display_name": "Python 3",
   "language": "python",
   "name": "python3"
  },
  "language_info": {
   "codemirror_mode": {
    "name": "ipython",
    "version": 3
   },
   "file_extension": ".py",
   "mimetype": "text/x-python",
   "name": "python",
   "nbconvert_exporter": "python",
   "pygments_lexer": "ipython3",
   "version": "3.7.3"
  }
 },
 "nbformat": 4,
 "nbformat_minor": 1
}
